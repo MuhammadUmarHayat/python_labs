import requests
from IPython.display import display, Markdown

def get_weather(city):
    try:
        # Encode the city name to handle spaces or special characters
        city = str(city).replace(" ", "%20")
        
        # Fetch weather from wttr.in with proper URL formatting
        url = f"https://wttr.in/{city}?format=3"
        response = requests.get(url)
        
        # Check if the response was successful
        if response.status_code == 200:
            weather_report = response.text
            display(Markdown(f"### Weather in {city.replace('%20', ' ')}: {weather_report}"))
        elif response.status_code == 404:
            display(Markdown(f"### Error: City '{city.replace('%20', ' ')}' not found. Please check the city name."))
        else:
            display(Markdown(f"### Failed to retrieve weather data for {city.replace('%20', ' ')}. HTTP Status code: {response.status_code}"))
    
    except Exception as e:
        display(Markdown(f"### An error occurred: {e}"))

# Input city name in Jupyter notebook
city = 'Jehlum' #input("Enter your city name: ")
get_weather(city)
